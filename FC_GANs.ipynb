{
  "nbformat": 4,
  "nbformat_minor": 0,
  "metadata": {
    "colab": {
      "provenance": [],
      "gpuType": "T4",
      "mount_file_id": "1XJ051Mo97HGW_P3DBDh6oZz3MzkxdK-a",
      "authorship_tag": "ABX9TyN8ZJcwUQyRh4c9PwXrhzpr",
      "include_colab_link": true
    },
    "kernelspec": {
      "name": "python3",
      "display_name": "Python 3"
    },
    "language_info": {
      "name": "python"
    },
    "accelerator": "GPU"
  },
  "cells": [
    {
      "cell_type": "markdown",
      "metadata": {
        "id": "view-in-github",
        "colab_type": "text"
      },
      "source": [
        "<a href=\"https://colab.research.google.com/github/raghulchandramouli/GAN_series/blob/main/FC_GANs.ipynb\" target=\"_parent\"><img src=\"https://colab.research.google.com/assets/colab-badge.svg\" alt=\"Open In Colab\"/></a>"
      ]
    },
    {
      "cell_type": "markdown",
      "source": [
        "IMPORTING MODULES"
      ],
      "metadata": {
        "id": "6KSHeOyxIdpa"
      }
    },
    {
      "cell_type": "code",
      "source": [
        "import torch\n",
        "import torch.nn as nn\n",
        "import torch.optim as optim\n",
        "import torchvision\n",
        "import torchvision.datasets as datasets\n",
        "from torch.utils.data import DataLoader\n",
        "import torchvision.transforms as transforms\n",
        "from torch.utils.tensorboard import SummaryWriter"
      ],
      "metadata": {
        "id": "bGLbPlVQIlDP"
      },
      "execution_count": 27,
      "outputs": []
    },
    {
      "cell_type": "markdown",
      "source": [
        "BUILDING DISCRIMINATOR"
      ],
      "metadata": {
        "id": "TOgrRvycJFZJ"
      }
    },
    {
      "cell_type": "code",
      "source": [
        "class Discriminator(nn.Module):\n",
        "    def __init__(self, in_features):\n",
        "        super().__init__()\n",
        "        self.disc = nn.Sequential(\n",
        "            nn.Linear(in_features, 128),\n",
        "            nn.LeakyReLU(0.01),\n",
        "            nn.Linear(128, 1),\n",
        "            nn.Sigmoid(),\n",
        "        )\n",
        "\n",
        "    def forward(self, x):\n",
        "        return self.disc(x)"
      ],
      "metadata": {
        "id": "TMUi-GT4JJR6"
      },
      "execution_count": 28,
      "outputs": []
    },
    {
      "cell_type": "markdown",
      "source": [
        "BUILDING GENERATORS"
      ],
      "metadata": {
        "id": "isoDHRw8KR_0"
      }
    },
    {
      "cell_type": "code",
      "source": [
        "class Generator(nn.Module):\n",
        "  def __init__(self, z_dim, img_dim):\n",
        "    super().__init__()\n",
        "    self.gen = nn.Sequential(\n",
        "               nn.Linear(z_dim, 256),\n",
        "               nn.LeakyReLU(0.1),\n",
        "               nn.Linear(256, img_dim),\n",
        "               nn.Tanh(),\n",
        "    )\n",
        "\n",
        "  def forward(self, x):\n",
        "    return self.gen(x)"
      ],
      "metadata": {
        "id": "YyzI-b1SKUDV"
      },
      "execution_count": 29,
      "outputs": []
    },
    {
      "cell_type": "markdown",
      "source": [
        "HYPERPARAMETERS, INITIALIZATIONS & PREPROCESSING"
      ],
      "metadata": {
        "id": "AjKCiKfSLQ_a"
      }
    },
    {
      "cell_type": "code",
      "source": [
        "device = \"cuda\" if torch.cuda.is_available else \"cpu\"\n",
        "lr = 3e-4\n",
        "z_dim = 64 ### 128, 256\n",
        "image_dim = 28 * 28 * 1\n",
        "batch_size = 32\n",
        "num_epochs = 50\n",
        "\n",
        "\n",
        "\n",
        "disc = Discriminator(image_dim).to(device)\n",
        "gen = Generator(z_dim, image_dim).to(device)\n",
        "fixed_noise = torch.randn((batch_size, z_dim)).to(device)\n",
        "transforms = transforms.Compose(\n",
        "    [transforms.ToTensor(), transforms.Normalize((0.5,), (0.5))]\n",
        ")\n",
        "\n",
        "dataset = datasets.MNIST(root=\"dataset/\", transform=transforms, download=True)\n",
        "loader = DataLoader(dataset, batch_size=batch_size, shuffle=True)\n",
        "opt_disc = optim.Adam(disc.parameters(), lr=lr)\n",
        "opt_gen = optim.Adam(gen.parameters(), lr=lr)\n",
        "criterion = nn.BCELoss()\n",
        "writer_fake = SummaryWriter(f\"runs/GAN_MNIST/fake\")\n",
        "writer_real = SummaryWriter(f\"runs/GANS_MNIST/real\")\n"
      ],
      "metadata": {
        "id": "QpMBD0PhLXvZ"
      },
      "execution_count": null,
      "outputs": []
    },
    {
      "cell_type": "markdown",
      "source": [
        "SETTING TRAINING LOOP FOR GANs"
      ],
      "metadata": {
        "id": "v3WNtl0LOxTT"
      }
    },
    {
      "cell_type": "code",
      "source": [
        "step = 0\n",
        "\n",
        "for epoch in range(num_epochs):\n",
        "  for batch_idx, (real, _) in enumerate(loader):\n",
        "    real = real.view(-1, 784).to(device)\n",
        "    batch_size = real.shape[0]\n",
        "\n",
        "\n",
        "    ### Train Discrimnator:\n",
        "\n",
        "    noise = torch.randn(batch_size, z_dim).to(device)\n",
        "    fake = gen(noise)\n",
        "    disc_real = disc(real).view(-1)\n",
        "    lossD_real = criterion(disc_real, torch.ones_like(disc_real))\n",
        "    disc_fake = disc(fake).view(-1)\n",
        "    lossD_fake = criterion(disc_fake, torch.zeros_like(disc_fake))\n",
        "    lossD = (lossD_real + lossD_fake) / 2\n",
        "    disc.zero_grad()\n",
        "    lossD.backward(retain_graph = True)\n",
        "    opt_disc.step()\n",
        "\n",
        "    ### Train Generator:\n",
        "\n",
        "    output = disc(fake).view(-1)\n",
        "    lossG = criterion(output, torch.ones_like(output))\n",
        "    gen.zero_grad()\n",
        "    lossG.backward()\n",
        "    opt_gen.step()\n",
        "\n",
        "    if batch_idx == 0:\n",
        "      print(\n",
        "          f\"Epoch [[{epoch}/{num_epochs}] \"\n",
        "          f\"Loss D: {lossD:.4f}, Loss G: {lossG:.4f}\"\n",
        "      )\n",
        "\n",
        "      with torch.no_grad():\n",
        "        fake = gen(fixed_noise).reshape(-1, 1, 28 , 28)\n",
        "        data = real.reshape(-1, 1, 28 , 28)\n",
        "        img_grid_fake = torchvision.utils.make_grid(fake, normalize=True)\n",
        "        img_grid_real = torchvision.utils.make_grid(data, normalize=True)\n",
        "\n",
        "        writer_fake.add_image(\n",
        "                    \"Mnist Fake Images\", img_grid_fake, global_step=step\n",
        "        )\n",
        "        writer_real.add_image(\n",
        "                    \"Mnist Real Images\", img_grid_real, global_step=step\n",
        "        )\n",
        "        step += 1\n",
        "\n",
        "\n",
        "\n",
        "\n"
      ],
      "metadata": {
        "id": "efHkIPC7O2LN"
      },
      "execution_count": null,
      "outputs": []
    },
    {
      "cell_type": "code",
      "source": [],
      "metadata": {
        "id": "vqwP46QGRIui"
      },
      "execution_count": null,
      "outputs": []
    }
  ]
}